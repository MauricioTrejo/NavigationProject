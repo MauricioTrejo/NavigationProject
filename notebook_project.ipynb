{
 "cells": [
  {
   "cell_type": "markdown",
   "metadata": {},
   "source": [
    "# Navigation Project\n",
    "\n",
    "## Introduction\n",
    "\n",
    "The aim of this project is to train an agent in a square world full of bananas, each yellow banana gives a reward of +1 point whereas each blue banana gives a reawrd of -1. An example of the banana world can be seen here:\n",
    "\n",
    "<img src=\"banana_collector.gif\" width=\"300\" align=\"center\">\n",
    "\n",
    "The goal of each agent is to collect as many yellow bananas as possible while avoiding the blue bananas.\n",
    "\n",
    "The state space has 37 dimensions, while the agent has 4 available actions:\n",
    "\n",
    "- Up\n",
    "- Down\n",
    "- Right\n",
    "- Left\n",
    "\n",
    "The goal is to solve the environment, in order to solve it, the agent must average a score greater than 13 over 100 consecutive episodes.\n",
    "\n",
    "## 1. Start the environment\n",
    "\n",
    "Before training the agent, we need to set the environment and the agent-environment interactions\n",
    "\n",
    "Loading necessary files"
   ]
  },
  {
   "cell_type": "code",
   "execution_count": 1,
   "metadata": {},
   "outputs": [],
   "source": [
    "!pip -q install ./python"
   ]
  },
  {
   "cell_type": "markdown",
   "metadata": {},
   "source": [
    "Creating the environment"
   ]
  },
  {
   "cell_type": "code",
   "execution_count": 2,
   "metadata": {},
   "outputs": [
    {
     "name": "stderr",
     "output_type": "stream",
     "text": [
      "INFO:unityagents:\n",
      "'Academy' started successfully!\n",
      "Unity Academy name: Academy\n",
      "        Number of Brains: 1\n",
      "        Number of External Brains : 1\n",
      "        Lesson number : 0\n",
      "        Reset Parameters :\n",
      "\t\t\n",
      "Unity brain name: BananaBrain\n",
      "        Number of Visual Observations (per agent): 0\n",
      "        Vector Observation space type: continuous\n",
      "        Vector Observation space size (per agent): 37\n",
      "        Number of stacked Vector Observation: 1\n",
      "        Vector Action space type: discrete\n",
      "        Vector Action space size (per agent): 4\n",
      "        Vector Action descriptions: , , , \n"
     ]
    }
   ],
   "source": [
    "from unityagents import UnityEnvironment\n",
    "import numpy as np\n",
    "from collections import deque \n",
    "from agent import Agent\n",
    "import matplotlib.pyplot as plt\n",
    "\n",
    "import torch\n",
    "\n",
    "# Setting the environment with the default brain\n",
    "env = UnityEnvironment(file_name=\"data/Banana_Windows_x86_64/Banana.x86_64\")"
   ]
  },
  {
   "cell_type": "markdown",
   "metadata": {},
   "source": [
    "Setting the the deafult brain as the brain (it let the agent decide the actions)"
   ]
  },
  {
   "cell_type": "code",
   "execution_count": 3,
   "metadata": {},
   "outputs": [],
   "source": [
    "brain_name = env.brain_names[0]\n",
    "brain = env.brains[brain_name]"
   ]
  },
  {
   "cell_type": "markdown",
   "metadata": {},
   "source": [
    "## 2. Examine the state and action spaces\n",
    "\n",
    "Obtaining state size and action size for the agents to work"
   ]
  },
  {
   "cell_type": "code",
   "execution_count": 4,
   "metadata": {},
   "outputs": [],
   "source": [
    "env_info = env.reset(train_mode=True)[brain_name]\n",
    "\n",
    "state = env_info.vector_observations[0]\n",
    "state_size = len(state)\n",
    "\n",
    "action_size = brain.vector_action_space_size"
   ]
  },
  {
   "cell_type": "markdown",
   "metadata": {},
   "source": [
    "## 3. Behavior of untrained agent"
   ]
  },
  {
   "cell_type": "code",
   "execution_count": 6,
   "metadata": {},
   "outputs": [
    {
     "name": "stdout",
     "output_type": "stream",
     "text": [
      "Score: 1.0\n"
     ]
    }
   ],
   "source": [
    "env_info = env.reset(train_mode=False)[brain_name] # Reset the environment\n",
    "state = env_info.vector_observations[0]            # Get the current state\n",
    "score = 0                                          # Initialize the score\n",
    "\n",
    "while True:\n",
    "    action = np.random.randint(action_size)        # Select an action\n",
    "    env_info = env.step(action)[brain_name]        # Send the action to the environment\n",
    "    next_state = env_info.vector_observations[0]   # Get the next state\n",
    "    reward = env_info.rewards[0]                   # Get the reward\n",
    "    done = env_info.local_done[0]                  # See if episode has finished\n",
    "    score += reward                                # Update the score\n",
    "    state = next_state\n",
    "    if done:\n",
    "        break \n",
    "print(\"Score: {}\".format(score))"
   ]
  },
  {
   "cell_type": "markdown",
   "metadata": {},
   "source": [
    "## 4. Training the agent\n",
    "\n",
    "For the optimization of the agent, the strategy used was to move a single parameter to optimize in that direction and then moving in other direction to optimize in this new direction, trying to maximize the maximum average score over the last 100 episodes, to this purpose we tried 14 different combinations of hyperparameters with the following combinations:\n",
    "\n",
    "|   Tau   |  Learning Rate  |   Gamma  |  Update every  | Max Avg Score |\n",
    "|---------|-----------------|----------|----------------|---------------|\n",
    "| 0.001   |     0.0005      |   0.9    |        4       |     16.02     |\n",
    "| 0.001   |     0.0005      |   1.0    |        4       |     16.36     |\n",
    "| 0.001   |     0.0005      |   0.5    |        4       |      2.81     |\n",
    "| 0.001   |     0.0005      |   2.0    |        4       |      0.67     |\n",
    "|**0.001**|   **0.0005**    | **0.99** |     **20**     |   **17.50**   |\n",
    "| 0.001   |     0.0005      |   0.99   |       40       |     15.29     |\n",
    "| 0.001   |     0.0005      |   0.99   |       10       |     17.40     |\n",
    "| 0.01    |     0.0005      |   0.99   |       20       |     15.79     |\n",
    "| 0.0001  |     0.0005      |   0.99   |       20       |      5.96     |\n",
    "| 0.002   |     0.0005      |   0.99   |       20       |     17.16     |\n",
    "| 0.05    |     0.0005      |   0.99   |       20       |      0.26     |\n",
    "| 0.001   |     0.0001      |   0.99   |       20       |     14.82     |\n",
    "| 0.001   |     0.001       |   0.99   |       20       |     17.36     |\n",
    "| 0.01    |     0.01        |   0.99   |       20       |      8.88     |\n",
    "\n",
    "Is important to note that this method might have reach a local minima which might be different from the global minima."
   ]
  },
  {
   "cell_type": "code",
   "execution_count": 7,
   "metadata": {},
   "outputs": [],
   "source": [
    "def dqn(n_episodes=2000, max_t=1000, eps_start=1.0, eps_end=0.01, eps_decay=0.995):\n",
    "    \"\"\"\n",
    "    Function that let's the agent learn by interacting with the environment, it also prints a moving \n",
    "    window with the mean of the last 100 episodes of the agent\n",
    "    \n",
    "    Input:\n",
    "    \n",
    "        n_episodes  - integer determining the maximum number of training episodes\n",
    "        max_t       - integer deterimining the maximum number of timesteps per episode\n",
    "        eps_start   - float with starting value of epsilon, for epsilon-greedy action selection\n",
    "        eps_end     - float with minimum value of epsilon\n",
    "        eps_decay   - float with multiplicative factor (per episode) for decreasing epsilon\n",
    "        \n",
    "    Output:\n",
    "    \n",
    "        scores  - A list of the scores\n",
    "    \"\"\"\n",
    "    scores = []                              # List containing scores from each episode\n",
    "    scores_window = deque(maxlen=100)        # Last 100 scores\n",
    "    eps = eps_start                          # Initialize epsilon\n",
    "    \n",
    "    for i_episode in range(1, n_episodes+1):\n",
    "        env_info = env.reset(train_mode=True)[brain_name]  # Reset the environment\n",
    "        state = env_info.vector_observations[0]            # Get the current state\n",
    "        score = 0   \n",
    "        \n",
    "        for t in range(max_t):\n",
    "            action = agent.act(state, eps)                      # Select an action\n",
    "            action = int(action)                                # Converting action to int32 (otherwise crashes)\n",
    "            env_info = env.step(action)[brain_name]             # Send the action to the environment\n",
    "            next_state = env_info.vector_observations[0]        # Get the next state\n",
    "            reward = env_info.rewards[0]                        # Get the reward\n",
    "            done = env_info.local_done[0]                       # See if episode has finished\n",
    "            agent.step(state, action, reward, next_state, done) # Step and learning process\n",
    "            score += reward                                     # Update the score\n",
    "            state = next_state                                  # Roll over the state to next time step\n",
    "            if done:                                            # Exit loop if episode finished\n",
    "                break\n",
    "                \n",
    "        scores_window.append(score)          # Save most recent score\n",
    "        scores.append(score)                 # Save most recent score\n",
    "        eps = max(eps_end, eps_decay*eps)    # Decrease epsilon\n",
    "        \n",
    "        print('\\rEpisode {}\\tAverage Score: {:.2f}'.format(i_episode, np.mean(scores_window)), end=\"\")\n",
    "        if i_episode % 100 == 0:\n",
    "            print('\\rEpisode {}\\tAverage Score: {:.2f}'.format(i_episode, np.mean(scores_window)))\n",
    "        if np.mean(scores_window)>=200.0:\n",
    "            print('\\nEnvironment solved in {:d} episodes!\\tAverage Score: {:.2f}'.format(i_episode-100, np.mean(scores_window)))\n",
    "            torch.save(agent.qnetwork_local.state_dict(), 'checkpoint.pth')\n",
    "            break\n",
    "    return scores"
   ]
  },
  {
   "cell_type": "code",
   "execution_count": 8,
   "metadata": {},
   "outputs": [
    {
     "name": "stdout",
     "output_type": "stream",
     "text": [
      "Episode 100\tAverage Score: 0.05\n",
      "Episode 200\tAverage Score: 1.19\n",
      "Episode 300\tAverage Score: 3.83\n",
      "Episode 400\tAverage Score: 6.47\n",
      "Episode 500\tAverage Score: 6.51\n",
      "Episode 600\tAverage Score: 6.71\n",
      "Episode 700\tAverage Score: 5.46\n",
      "Episode 800\tAverage Score: 9.31\n",
      "Episode 900\tAverage Score: 9.53\n",
      "Episode 1000\tAverage Score: 14.14\n",
      "Episode 1100\tAverage Score: 15.16\n",
      "Episode 1200\tAverage Score: 14.95\n",
      "Episode 1300\tAverage Score: 15.41\n",
      "Episode 1400\tAverage Score: 15.71\n",
      "Episode 1500\tAverage Score: 16.05\n",
      "Episode 1600\tAverage Score: 16.87\n",
      "Episode 1700\tAverage Score: 17.19\n",
      "Episode 1800\tAverage Score: 16.45\n",
      "Episode 1900\tAverage Score: 17.32\n",
      "Episode 2000\tAverage Score: 17.14\n"
     ]
    },
    {
     "data": {
      "image/png": "[encoded data removed]",
      "text/plain": [
       "<Figure size 432x288 with 1 Axes>"
      ]
     },
     "metadata": {
      "needs_background": "light"
     },
     "output_type": "display_data"
    }
   ],
   "source": [
    "agent = Agent(state_size = state_size, action_size = action_size, seed = 17)\n",
    "scores = dqn()\n",
    "\n",
    "# plot the scores\n",
    "fig = plt.figure()\n",
    "ax = fig.add_subplot()\n",
    "plt.plot(np.arange(len(scores)), scores)\n",
    "plt.ylabel('Score')\n",
    "plt.xlabel('Episode #')\n",
    "plt.show()"
   ]
  },
  {
   "cell_type": "markdown",
   "metadata": {},
   "source": [
    "From the graph above, we can see that the agent reaches the benchmark of +13 after 1,000 iterations."
   ]
  },
  {
   "cell_type": "markdown",
   "metadata": {},
   "source": [
    "Saving agent weights"
   ]
  },
  {
   "cell_type": "code",
   "execution_count": 16,
   "metadata": {},
   "outputs": [],
   "source": [
    "torch.save(agent.qnetwork_local.state_dict(), 'weights.pth')"
   ]
  },
  {
   "cell_type": "markdown",
   "metadata": {},
   "source": [
    "## 5. Behavior of trained agent"
   ]
  },
  {
   "cell_type": "code",
   "execution_count": 11,
   "metadata": {},
   "outputs": [
    {
     "name": "stdout",
     "output_type": "stream",
     "text": [
      "Score: 16.0\n"
     ]
    }
   ],
   "source": [
    "eps = 0.01\n",
    "\n",
    "env_info = env.reset(train_mode=False)[brain_name] # Reset the environment\n",
    "state = env_info.vector_observations[0]            # Get the current state\n",
    "score = 0                                          # Initialize the score\n",
    "\n",
    "while True:\n",
    "    action = agent.act(state, eps)                 # Select an action\n",
    "    action = int(action)                                # Converting action to int32 (otherwise crashes)\n",
    "    env_info = env.step(action)[brain_name]        # Send the action to the environment\n",
    "    next_state = env_info.vector_observations[0]   # Get the next state\n",
    "    reward = env_info.rewards[0]                   # Get the reward\n",
    "    done = env_info.local_done[0]                  # See if episode has finished\n",
    "    score += reward                                # Update the score\n",
    "    state = next_state\n",
    "    if done:\n",
    "        break \n",
    "print(\"Score: {}\".format(score))"
   ]
  },
  {
   "cell_type": "code",
   "execution_count": 12,
   "metadata": {},
   "outputs": [],
   "source": [
    "env.close()"
   ]
  },
  {
   "cell_type": "code",
   "execution_count": null,
   "metadata": {},
   "outputs": [],
   "source": []
  }
 ],
 "metadata": {
  "kernelspec": {
   "display_name": "Python 3",
   "language": "python",
   "name": "python3"
  },
  "language_info": {
   "codemirror_mode": {
    "name": "ipython",
    "version": 3
   },
   "file_extension": ".py",
   "mimetype": "text/x-python",
   "name": "python",
   "nbconvert_exporter": "python",
   "pygments_lexer": "ipython3",
   "version": "3.6.12"
  }
 },
 "nbformat": 4,
 "nbformat_minor": 4
}
